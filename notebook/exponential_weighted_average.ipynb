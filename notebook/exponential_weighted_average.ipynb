{
 "cells": [
  {
   "cell_type": "code",
   "execution_count": 21,
   "id": "ed645441-e4b5-4d9d-a3e6-9f10be38615b",
   "metadata": {},
   "outputs": [],
   "source": [
    "MODEL_PATH = \"../models/\""
   ]
  },
  {
   "cell_type": "code",
   "execution_count": 22,
   "id": "a138fcfd-fc1c-4cb3-a6f8-efb51b39fe80",
   "metadata": {},
   "outputs": [],
   "source": [
    "import torch\n",
    "import torch.nn as nn\n",
    "import torch.onnx"
   ]
  },
  {
   "cell_type": "code",
   "execution_count": 26,
   "id": "9e0b9749-d26f-4882-8b13-be93b58c58ef",
   "metadata": {},
   "outputs": [],
   "source": [
    "class EWA(nn.Module):\n",
    "    def __init__(self, alpha=0.5):\n",
    "        super(EWA, self).__init__()\n",
    "        self.alpha = alpha\n",
    "\n",
    "    def forward(self, x, h):\n",
    "        h_new = self.alpha * x + (1 - self.alpha) * h\n",
    "        return h_new, h_new  # output and next hidden state both h_new"
   ]
  },
  {
   "cell_type": "code",
   "execution_count": 27,
   "id": "dfd46ebf-bc93-4c69-b71f-1f96bd71565e",
   "metadata": {},
   "outputs": [],
   "source": [
    "# Example usage and export\n",
    "model = EWA(alpha=0.3)\n",
    "\n",
    "# Dummy inputs: batch size 1\n",
    "x = torch.randn(1, 1)\n",
    "h = torch.zeros(1, 1)"
   ]
  },
  {
   "cell_type": "code",
   "execution_count": 31,
   "id": "67ec08b1-6197-43ac-996e-e7e1631af1ae",
   "metadata": {},
   "outputs": [],
   "source": [
    "# Export to ONNX\n",
    "torch.onnx.export(\n",
    "    model,\n",
    "    (x, h),\n",
    "    MODEL_PATH + \"ewa.onnx\",\n",
    "    input_names=[\"x\", \"h\"],\n",
    "    output_names=[\"output\", \"h\"],\n",
    "    dynamic_axes={\n",
    "        \"x\": {0: \"batch\"},\n",
    "        \"h\": {0: \"batch\"},\n",
    "        \"output\": {0: \"batch\"},\n",
    "    },\n",
    "    opset_version=12,\n",
    ")"
   ]
  },
  {
   "cell_type": "code",
   "execution_count": null,
   "id": "d1c33857-c75c-425f-9db3-4f070529e28a",
   "metadata": {},
   "outputs": [],
   "source": []
  }
 ],
 "metadata": {
  "kernelspec": {
   "display_name": "Python 3 (ipykernel)",
   "language": "python",
   "name": "python3"
  },
  "language_info": {
   "codemirror_mode": {
    "name": "ipython",
    "version": 3
   },
   "file_extension": ".py",
   "mimetype": "text/x-python",
   "name": "python",
   "nbconvert_exporter": "python",
   "pygments_lexer": "ipython3",
   "version": "3.13.5"
  }
 },
 "nbformat": 4,
 "nbformat_minor": 5
}
